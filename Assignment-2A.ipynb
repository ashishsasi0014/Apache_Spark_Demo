{
 "cells": [
  {
   "cell_type": "code",
   "execution_count": 1,
   "metadata": {},
   "outputs": [],
   "source": [
    "# Importing all required libraries for the assignment\n",
    "from pyspark import SparkConf\n",
    "from pyspark import SparkContext # Spark\n",
    "from pyspark.sql import SparkSession # Spark SQL\n",
    "import pandas as pd\n",
    "import re\n",
    "import pyspark.sql.functions as F\n",
    "import matplotlib\n",
    "import matplotlib.pyplot as plt\n",
    "import numpy as np\n",
    "from operator import add\n",
    "from pyspark.sql.types import *\n",
    "from pyspark.sql.functions import isnan, when, count, col\n",
    "from pyspark.ml.stat import Correlation\n",
    "from pyspark.ml.feature import VectorAssembler\n",
    "from pyspark.sql.functions import substring, length, col, expr\n",
    "from pyspark.sql.functions import regexp_replace\n",
    "from pyspark.ml.feature import OneHotEncoder, StringIndexer, VectorAssembler\n",
    "from pyspark.ml.classification import DecisionTreeClassifier\n",
    "from pyspark.ml.clustering import KMeans\n",
    "from pyspark.ml import Pipeline\n",
    "from pandas.plotting import scatter_matrix\n",
    "from pyspark.ml.classification import GBTClassifier\n",
    "from pyspark.ml.evaluation import BinaryClassificationEvaluator"
   ]
  },
  {
   "cell_type": "markdown",
   "metadata": {},
   "source": [
    "# Part 1: Data preparation and exploration"
   ]
  },
  {
   "cell_type": "markdown",
   "metadata": {},
   "source": [
    "## 1.1 Create spark config"
   ]
  },
  {
   "cell_type": "code",
   "execution_count": 2,
   "metadata": {},
   "outputs": [],
   "source": [
    "#Create spark configuration with all threads available on VM and with name as \"Assingment-1\"\n",
    "spark_conf = SparkConf().setMaster(\"local[*]\").setAppName(\"Assignment-2A\").set(\"spark.sql.files.maxPartitionBytes\",33554432)\n",
    "#Creating spark context from the configuration\n",
    "spark = SparkSession.builder.config(conf=spark_conf).getOrCreate()\n",
    "sc = spark.sparkContext\n",
    "sc.setLogLevel('ERROR')"
   ]
  },
  {
   "cell_type": "markdown",
   "metadata": {},
   "source": [
    "## 1.2 Defining the Schema and reading the data"
   ]
  },
  {
   "cell_type": "code",
   "execution_count": 3,
   "metadata": {},
   "outputs": [],
   "source": [
    "#Schema for process activity\n",
    "processActivityFields = [StructField(\"ts\",IntegerType(),True),\n",
    "         StructField(\"PID\",IntegerType(),True),\n",
    "         StructField(\"TRUN\",IntegerType(),True),\n",
    "         StructField(\"TSLPI\",IntegerType(),True),\n",
    "         StructField(\"TSLPU\",IntegerType(),True),\n",
    "         StructField(\"POLI\",StringType(),True),\n",
    "         StructField(\"NICE\",IntegerType(),True),\n",
    "         StructField(\"PRI\",IntegerType(),True),\n",
    "         StructField(\"RTPR\",IntegerType(),True),\n",
    "         StructField(\"CPUNR\",IntegerType(),True),\n",
    "         StructField(\"Status\",StringType(),True),\n",
    "         StructField(\"EXC\",IntegerType(),True),\n",
    "         StructField(\"State\",StringType(),True),\n",
    "         StructField(\"CPU\",DoubleType(),True),\n",
    "         StructField(\"CMD\",StringType(),True),\n",
    "         StructField(\"attack\",IntegerType(),True),\n",
    "         StructField(\"type\",StringType(),True)]\n",
    "processActivitySchema = StructType(processActivityFields)\n",
    "#Schema for memory activity\n",
    "memoryActivityFields = [StructField(\"ts\",DoubleType(),True),\n",
    "                       StructField(\"PID\",DoubleType(),True),\n",
    "                       StructField(\"MINFLT\",StringType(),True),\n",
    "                       StructField(\"MAJFLT\",StringType(),True),\n",
    "                       StructField(\"VSTEXT\",StringType(),True),\n",
    "                       StructField(\"VSIZE\",DoubleType(),True),\n",
    "                       StructField(\"RSIZE\",StringType(),True),\n",
    "                       StructField(\"VGROW\",StringType(),True),\n",
    "                       StructField(\"RGROW\",StringType(),True),\n",
    "                       StructField(\"MEM\",DoubleType(),True),\n",
    "                       StructField(\"CMD\",StringType(),True),\n",
    "                       StructField(\"attack\",DoubleType(),True),\n",
    "                       StructField(\"type\",StringType(),True)]\n",
    "memoryActivitySchema = StructType(memoryActivityFields)"
   ]
  },
  {
   "cell_type": "code",
   "execution_count": 4,
   "metadata": {},
   "outputs": [
    {
     "data": {
      "text/plain": [
       "4"
      ]
     },
     "execution_count": 4,
     "metadata": {},
     "output_type": "execute_result"
    }
   ],
   "source": [
    "#Read Data and get number of partition\n",
    "df_process = spark.read.csv(\"Data_Ass2/linux_process_*.csv\",header=True,sep=\",\",schema=processActivitySchema)\n",
    "df_process.createOrReplaceTempView(\"Process_data_1\")\n",
    "df_process.rdd.getNumPartitions()"
   ]
  },
  {
   "cell_type": "code",
   "execution_count": 5,
   "metadata": {},
   "outputs": [
    {
     "data": {
      "text/plain": [
       "4"
      ]
     },
     "execution_count": 5,
     "metadata": {},
     "output_type": "execute_result"
    }
   ],
   "source": [
    "#Read Data and get number of partition\n",
    "df_memory = spark.read.csv(\"Data_Ass2/linux_memory_*.csv\",header=True,sep=\",\",schema=memoryActivitySchema)\n",
    "df_memory.createOrReplaceTempView(\"Memory_data_1\")\n",
    "df_memory.rdd.getNumPartitions()"
   ]
  },
  {
   "cell_type": "code",
   "execution_count": 6,
   "metadata": {},
   "outputs": [
    {
     "name": "stdout",
     "output_type": "stream",
     "text": [
      "Number of records in process file 1927968\n",
      "Number of records in memory file 2000000\n"
     ]
    }
   ],
   "source": [
    "print('Number of records in process file %s' %(df_process.count()))\n",
    "print('Number of records in memory file %s' %(df_memory.count()))"
   ]
  },
  {
   "cell_type": "code",
   "execution_count": 7,
   "metadata": {
    "scrolled": false
   },
   "outputs": [
    {
     "name": "stdout",
     "output_type": "stream",
     "text": [
      "+---+---+----+-----+-----+----+----+---+----+-----+------+---+-----+---+---+------+----+\n",
      "| ts|PID|TRUN|TSLPI|TSLPU|POLI|NICE|PRI|RTPR|CPUNR|Status|EXC|State|CPU|CMD|attack|type|\n",
      "+---+---+----+-----+-----+----+----+---+----+-----+------+---+-----+---+---+------+----+\n",
      "|  0|  0|   0|    0|    0|   0|   0|  0|   0|    0|     0|  0|    0|  0|  0|     0|   0|\n",
      "+---+---+----+-----+-----+----+----+---+----+-----+------+---+-----+---+---+------+----+\n",
      "\n"
     ]
    }
   ],
   "source": [
    "#Check for nulls\n",
    "df_process.select([count(when(isnan(c) | col(c).isNull(),c)).alias(c) for c in df_process.columns]).show()"
   ]
  },
  {
   "cell_type": "code",
   "execution_count": 8,
   "metadata": {
    "scrolled": true
   },
   "outputs": [
    {
     "name": "stdout",
     "output_type": "stream",
     "text": [
      "+---+---+------+------+------+-----+-----+-----+-----+---+---+------+----+\n",
      "| ts|PID|MINFLT|MAJFLT|VSTEXT|VSIZE|RSIZE|VGROW|RGROW|MEM|CMD|attack|type|\n",
      "+---+---+------+------+------+-----+-----+-----+-----+---+---+------+----+\n",
      "|  0|  0|     0|     0|     0|    0|    0|    0|    0|  0|  0|     0|   0|\n",
      "+---+---+------+------+------+-----+-----+-----+-----+---+---+------+----+\n",
      "\n"
     ]
    }
   ],
   "source": [
    "#Check for nulls\n",
    "df_memory.select([count(when(isnan(c) | col(c).isNull(),c)).alias(c) for c in df_memory.columns]).show()"
   ]
  },
  {
   "cell_type": "code",
   "execution_count": 11,
   "metadata": {},
   "outputs": [],
   "source": [
    "#Wrangling the data into proper format for the following columns\n",
    "#By chekcing for condition we can change to value to its corresponsing corerct form.\n",
    "df_memory = df_memory.withColumn('MINFLT',\\\n",
    "when(col(\"MINFLT\").contains('K'),expr('substring(MINFLT,1,length(MINFLT)-1)').cast('double')*1000)\n",
    ".otherwise(col(\"MINFLT\").cast('double')))\n",
    "\n",
    "df_memory = df_memory.withColumn('MAJFLT',\\\n",
    "when(col(\"MAJFLT\").contains('M'),expr('substring(MAJFLT,1,length(MAJFLT)-1)').cast('double')*1000000)\n",
    ".otherwise(col(\"MAJFLT\").cast('double')))\n",
    "\n",
    "df_memory = df_memory.withColumn('VSTEXT',\\\n",
    "when(col(\"VSTEXT\").contains('K'),expr('substring(VSTEXT,1,length(VSTEXT)-1)').cast('double')*1000)\n",
    ".otherwise(col(\"VSTEXT\").cast('double')))\n",
    "\n",
    "df_memory = df_memory.withColumn('RSIZE',\\\n",
    "when(col(\"RSIZE\").contains('K'),expr('substring(RSIZE,1,length(RSIZE)-1)').cast('double')*1000)\n",
    ".when(col(\"RSIZE\").contains('M'),expr('substring(RSIZE,1,length(RSIZE)-1)').cast('double')*1000000)        \n",
    ".otherwise(col(\"RSIZE\").cast('double')))\n",
    "\n",
    "df_memory = df_memory.withColumn('VGROW',\\\n",
    "when(col(\"VGROW\").contains(' '),regexp_replace(col(\"VGROW\"),\" \",\"\").cast('double'))\n",
    ".when(col(\"VGROW\").contains('K'),expr('substring(VGROW,1,length(VGROW)-1)').cast('double')*1000)\n",
    ".otherwise(col(\"VGROW\").cast('double')))\n",
    "\n",
    "df_memory = df_memory.withColumn('RGROW',\\\n",
    "when(col(\"RGROW\").contains('K'),expr('substring(RGROW,1,length(RGROW)-1)').cast('double')*1000)\n",
    ".otherwise(col(\"RGROW\").cast('double')))"
   ]
  },
  {
   "cell_type": "code",
   "execution_count": 12,
   "metadata": {},
   "outputs": [
    {
     "name": "stdout",
     "output_type": "stream",
     "text": [
      "root\n",
      " |-- ts: double (nullable = true)\n",
      " |-- PID: double (nullable = true)\n",
      " |-- MINFLT: double (nullable = true)\n",
      " |-- MAJFLT: double (nullable = true)\n",
      " |-- VSTEXT: double (nullable = true)\n",
      " |-- VSIZE: double (nullable = true)\n",
      " |-- RSIZE: double (nullable = true)\n",
      " |-- VGROW: double (nullable = true)\n",
      " |-- RGROW: double (nullable = true)\n",
      " |-- MEM: double (nullable = true)\n",
      " |-- CMD: string (nullable = true)\n",
      " |-- attack: double (nullable = true)\n",
      " |-- type: string (nullable = true)\n",
      "\n"
     ]
    }
   ],
   "source": [
    "df_memory.printSchema()"
   ]
  },
  {
   "cell_type": "code",
   "execution_count": 13,
   "metadata": {},
   "outputs": [
    {
     "data": {
      "text/plain": [
       "DataFrame[ts: double, PID: double, MINFLT: double, MAJFLT: double, VSTEXT: double, VSIZE: double, RSIZE: double, VGROW: double, RGROW: double, MEM: double, CMD: string, attack: double, type: string]"
      ]
     },
     "execution_count": 13,
     "metadata": {},
     "output_type": "execute_result"
    }
   ],
   "source": [
    "#Caching Dataframes\n",
    "df_process.cache()\n",
    "df_memory.cache()"
   ]
  },
  {
   "cell_type": "code",
   "execution_count": 14,
   "metadata": {},
   "outputs": [],
   "source": [
    "#Get the categorical and numerical columns for process and memory\n",
    "categoricalColProc = [x[0] for x in df_process.dtypes if x[1]=='string']\n",
    "numericalColProc = [x[0] for x in df_process.dtypes if (x[1]=='int') | (x[1]=='float') | (x[1]=='double')]\n",
    "categoricalColMem = [x[0] for x in df_memory.dtypes if x[1]=='string']\n",
    "numericalColMem = [x[0] for x in df_memory.dtypes if (x[1]=='int') | (x[1]=='float') | (x[1]=='double')]"
   ]
  },
  {
   "cell_type": "code",
   "execution_count": 15,
   "metadata": {},
   "outputs": [
    {
     "name": "stdout",
     "output_type": "stream",
     "text": [
      "Categorical col for Process Activity: ['POLI', 'Status', 'State', 'CMD', 'type']\n",
      "Numerical col for Process Activity: ['ts', 'PID', 'TRUN', 'TSLPI', 'TSLPU', 'NICE', 'PRI', 'RTPR', 'CPUNR', 'EXC', 'CPU', 'attack']\n",
      "Categorical col for Memory Activity: ['CMD', 'type']\n",
      "Numerical col for Memory Activity: ['ts', 'PID', 'MINFLT', 'MAJFLT', 'VSTEXT', 'VSIZE', 'RSIZE', 'VGROW', 'RGROW', 'MEM', 'attack']\n"
     ]
    }
   ],
   "source": [
    "print(\"Categorical col for Process Activity: %s\" % (categoricalColProc))\n",
    "print(\"Numerical col for Process Activity: %s\" % (numericalColProc))\n",
    "print(\"Categorical col for Memory Activity: %s\" % (categoricalColMem))\n",
    "print(\"Numerical col for Memory Activity: %s\" % (numericalColMem))"
   ]
  },
  {
   "cell_type": "markdown",
   "metadata": {},
   "source": [
    "## 1.3 Exploration of the data"
   ]
  },
  {
   "cell_type": "markdown",
   "metadata": {},
   "source": [
    "### Task 1.3.1 Basic types of attacks"
   ]
  },
  {
   "cell_type": "code",
   "execution_count": 16,
   "metadata": {},
   "outputs": [
    {
     "data": {
      "text/html": [
       "<div>\n",
       "<style scoped>\n",
       "    .dataframe tbody tr th:only-of-type {\n",
       "        vertical-align: middle;\n",
       "    }\n",
       "\n",
       "    .dataframe tbody tr th {\n",
       "        vertical-align: top;\n",
       "    }\n",
       "\n",
       "    .dataframe thead th {\n",
       "        text-align: right;\n",
       "    }\n",
       "</style>\n",
       "<table border=\"1\" class=\"dataframe\">\n",
       "  <thead>\n",
       "    <tr style=\"text-align: right;\">\n",
       "      <th></th>\n",
       "      <th>attack</th>\n",
       "      <th>Count</th>\n",
       "    </tr>\n",
       "  </thead>\n",
       "  <tbody>\n",
       "    <tr>\n",
       "      <th>0</th>\n",
       "      <td>1</td>\n",
       "      <td>291364</td>\n",
       "    </tr>\n",
       "    <tr>\n",
       "      <th>1</th>\n",
       "      <td>0</td>\n",
       "      <td>1636604</td>\n",
       "    </tr>\n",
       "  </tbody>\n",
       "</table>\n",
       "</div>"
      ],
      "text/plain": [
       "   attack    Count\n",
       "0       1   291364\n",
       "1       0  1636604"
      ]
     },
     "execution_count": 16,
     "metadata": {},
     "output_type": "execute_result"
    }
   ],
   "source": [
    "df_process.groupby('attack').agg(F.count('attack').alias('Count')).toPandas()"
   ]
  },
  {
   "cell_type": "code",
   "execution_count": 17,
   "metadata": {},
   "outputs": [
    {
     "data": {
      "text/html": [
       "<div>\n",
       "<style scoped>\n",
       "    .dataframe tbody tr th:only-of-type {\n",
       "        vertical-align: middle;\n",
       "    }\n",
       "\n",
       "    .dataframe tbody tr th {\n",
       "        vertical-align: top;\n",
       "    }\n",
       "\n",
       "    .dataframe thead th {\n",
       "        text-align: right;\n",
       "    }\n",
       "</style>\n",
       "<table border=\"1\" class=\"dataframe\">\n",
       "  <thead>\n",
       "    <tr style=\"text-align: right;\">\n",
       "      <th></th>\n",
       "      <th>attack</th>\n",
       "      <th>Count</th>\n",
       "    </tr>\n",
       "  </thead>\n",
       "  <tbody>\n",
       "    <tr>\n",
       "      <th>0</th>\n",
       "      <td>0.0</td>\n",
       "      <td>1794377</td>\n",
       "    </tr>\n",
       "    <tr>\n",
       "      <th>1</th>\n",
       "      <td>1.0</td>\n",
       "      <td>205623</td>\n",
       "    </tr>\n",
       "  </tbody>\n",
       "</table>\n",
       "</div>"
      ],
      "text/plain": [
       "   attack    Count\n",
       "0     0.0  1794377\n",
       "1     1.0   205623"
      ]
     },
     "execution_count": 17,
     "metadata": {},
     "output_type": "execute_result"
    }
   ],
   "source": [
    "df_memory.groupby('attack').agg(F.count('attack').alias('Count')).toPandas()"
   ]
  },
  {
   "cell_type": "code",
   "execution_count": 18,
   "metadata": {},
   "outputs": [
    {
     "data": {
      "text/html": [
       "<div>\n",
       "<style scoped>\n",
       "    .dataframe tbody tr th:only-of-type {\n",
       "        vertical-align: middle;\n",
       "    }\n",
       "\n",
       "    .dataframe tbody tr th {\n",
       "        vertical-align: top;\n",
       "    }\n",
       "\n",
       "    .dataframe thead th {\n",
       "        text-align: right;\n",
       "    }\n",
       "</style>\n",
       "<table border=\"1\" class=\"dataframe\">\n",
       "  <thead>\n",
       "    <tr style=\"text-align: right;\">\n",
       "      <th></th>\n",
       "      <th>type</th>\n",
       "      <th>Count</th>\n",
       "    </tr>\n",
       "  </thead>\n",
       "  <tbody>\n",
       "    <tr>\n",
       "      <th>0</th>\n",
       "      <td>xss</td>\n",
       "      <td>17759</td>\n",
       "    </tr>\n",
       "    <tr>\n",
       "      <th>1</th>\n",
       "      <td>password</td>\n",
       "      <td>51409</td>\n",
       "    </tr>\n",
       "    <tr>\n",
       "      <th>2</th>\n",
       "      <td>scanning</td>\n",
       "      <td>38449</td>\n",
       "    </tr>\n",
       "    <tr>\n",
       "      <th>3</th>\n",
       "      <td>ddos</td>\n",
       "      <td>71603</td>\n",
       "    </tr>\n",
       "    <tr>\n",
       "      <th>4</th>\n",
       "      <td>normal</td>\n",
       "      <td>1636604</td>\n",
       "    </tr>\n",
       "    <tr>\n",
       "      <th>5</th>\n",
       "      <td>mitm</td>\n",
       "      <td>112</td>\n",
       "    </tr>\n",
       "    <tr>\n",
       "      <th>6</th>\n",
       "      <td>injection</td>\n",
       "      <td>41311</td>\n",
       "    </tr>\n",
       "    <tr>\n",
       "      <th>7</th>\n",
       "      <td>dos</td>\n",
       "      <td>70721</td>\n",
       "    </tr>\n",
       "  </tbody>\n",
       "</table>\n",
       "</div>"
      ],
      "text/plain": [
       "        type    Count\n",
       "0        xss    17759\n",
       "1   password    51409\n",
       "2   scanning    38449\n",
       "3       ddos    71603\n",
       "4     normal  1636604\n",
       "5       mitm      112\n",
       "6  injection    41311\n",
       "7        dos    70721"
      ]
     },
     "execution_count": 18,
     "metadata": {},
     "output_type": "execute_result"
    }
   ],
   "source": [
    "df_process.groupby('type').agg(F.count('type').alias('Count')).toPandas()"
   ]
  },
  {
   "cell_type": "code",
   "execution_count": 19,
   "metadata": {
    "scrolled": true
   },
   "outputs": [
    {
     "data": {
      "text/html": [
       "<div>\n",
       "<style scoped>\n",
       "    .dataframe tbody tr th:only-of-type {\n",
       "        vertical-align: middle;\n",
       "    }\n",
       "\n",
       "    .dataframe tbody tr th {\n",
       "        vertical-align: top;\n",
       "    }\n",
       "\n",
       "    .dataframe thead th {\n",
       "        text-align: right;\n",
       "    }\n",
       "</style>\n",
       "<table border=\"1\" class=\"dataframe\">\n",
       "  <thead>\n",
       "    <tr style=\"text-align: right;\">\n",
       "      <th></th>\n",
       "      <th>type</th>\n",
       "      <th>Count</th>\n",
       "    </tr>\n",
       "  </thead>\n",
       "  <tbody>\n",
       "    <tr>\n",
       "      <th>0</th>\n",
       "      <td>password</td>\n",
       "      <td>26016</td>\n",
       "    </tr>\n",
       "    <tr>\n",
       "      <th>1</th>\n",
       "      <td>ddos</td>\n",
       "      <td>45689</td>\n",
       "    </tr>\n",
       "    <tr>\n",
       "      <th>2</th>\n",
       "      <td>normal</td>\n",
       "      <td>1794377</td>\n",
       "    </tr>\n",
       "    <tr>\n",
       "      <th>3</th>\n",
       "      <td>mitm</td>\n",
       "      <td>112</td>\n",
       "    </tr>\n",
       "    <tr>\n",
       "      <th>4</th>\n",
       "      <td>injection</td>\n",
       "      <td>58523</td>\n",
       "    </tr>\n",
       "    <tr>\n",
       "      <th>5</th>\n",
       "      <td>dos</td>\n",
       "      <td>75283</td>\n",
       "    </tr>\n",
       "  </tbody>\n",
       "</table>\n",
       "</div>"
      ],
      "text/plain": [
       "        type    Count\n",
       "0   password    26016\n",
       "1       ddos    45689\n",
       "2     normal  1794377\n",
       "3       mitm      112\n",
       "4  injection    58523\n",
       "5        dos    75283"
      ]
     },
     "execution_count": 19,
     "metadata": {},
     "output_type": "execute_result"
    }
   ],
   "source": [
    "df_memory.groupby('type').agg(F.count('type').alias('Count')).toPandas()"
   ]
  },
  {
   "cell_type": "markdown",
   "metadata": {},
   "source": [
    "<p>\n",
    "\n",
    "From the above tables we can see we have much more values of 0's(non-attack) as compared to 1's(attack). We also see the below observation:\n",
    "    * Man in the middle is the least common attack seen\n",
    "    * Majority our normal i.e non-attack.\n",
    "    * The most common types of attack are are form of dos attack or injection\n",
    "    \n",
    "</p>"
   ]
  },
  {
   "cell_type": "markdown",
   "metadata": {},
   "source": [
    "### Task 1.3.2 Statistical discovery of the data"
   ]
  },
  {
   "cell_type": "code",
   "execution_count": 20,
   "metadata": {
    "scrolled": true
   },
   "outputs": [
    {
     "data": {
      "text/html": [
       "<div>\n",
       "<style scoped>\n",
       "    .dataframe tbody tr th:only-of-type {\n",
       "        vertical-align: middle;\n",
       "    }\n",
       "\n",
       "    .dataframe tbody tr th {\n",
       "        vertical-align: top;\n",
       "    }\n",
       "\n",
       "    .dataframe thead th {\n",
       "        text-align: right;\n",
       "    }\n",
       "</style>\n",
       "<table border=\"1\" class=\"dataframe\">\n",
       "  <thead>\n",
       "    <tr style=\"text-align: right;\">\n",
       "      <th></th>\n",
       "      <th>summary</th>\n",
       "      <th>ts</th>\n",
       "      <th>PID</th>\n",
       "      <th>TRUN</th>\n",
       "      <th>TSLPI</th>\n",
       "      <th>TSLPU</th>\n",
       "      <th>NICE</th>\n",
       "      <th>PRI</th>\n",
       "      <th>RTPR</th>\n",
       "      <th>CPUNR</th>\n",
       "      <th>EXC</th>\n",
       "      <th>CPU</th>\n",
       "      <th>attack</th>\n",
       "    </tr>\n",
       "  </thead>\n",
       "  <tbody>\n",
       "    <tr>\n",
       "      <th>0</th>\n",
       "      <td>count</td>\n",
       "      <td>1927968</td>\n",
       "      <td>1927968</td>\n",
       "      <td>1927968</td>\n",
       "      <td>1927968</td>\n",
       "      <td>1927968</td>\n",
       "      <td>1927968</td>\n",
       "      <td>1927968</td>\n",
       "      <td>1927968</td>\n",
       "      <td>1927968</td>\n",
       "      <td>1927968</td>\n",
       "      <td>1927968</td>\n",
       "      <td>1927968</td>\n",
       "    </tr>\n",
       "    <tr>\n",
       "      <th>1</th>\n",
       "      <td>mean</td>\n",
       "      <td>1.5563198311840394E9</td>\n",
       "      <td>5068.709770597852</td>\n",
       "      <td>0.0632287465352122</td>\n",
       "      <td>3.508334163222626</td>\n",
       "      <td>3.6100184235422994E-4</td>\n",
       "      <td>4.634469555511295</td>\n",
       "      <td>111.26826741937626</td>\n",
       "      <td>0.0</td>\n",
       "      <td>1.9210142491991569</td>\n",
       "      <td>0.030275398761805176</td>\n",
       "      <td>0.02238527299209388</td>\n",
       "      <td>0.1511249149363475</td>\n",
       "    </tr>\n",
       "    <tr>\n",
       "      <th>2</th>\n",
       "      <td>stddev</td>\n",
       "      <td>771350.0248109627</td>\n",
       "      <td>4987.784329320437</td>\n",
       "      <td>0.247825870904161</td>\n",
       "      <td>6.988459728531793</td>\n",
       "      <td>0.04421874419214597</td>\n",
       "      <td>8.40318986475207</td>\n",
       "      <td>22.624445062102893</td>\n",
       "      <td>0.0</td>\n",
       "      <td>1.5274047225903056</td>\n",
       "      <td>1.4619498567691878</td>\n",
       "      <td>0.13628943687184275</td>\n",
       "      <td>0.35817068774739264</td>\n",
       "    </tr>\n",
       "    <tr>\n",
       "      <th>3</th>\n",
       "      <td>min</td>\n",
       "      <td>1554216855</td>\n",
       "      <td>1007</td>\n",
       "      <td>0</td>\n",
       "      <td>0</td>\n",
       "      <td>0</td>\n",
       "      <td>0</td>\n",
       "      <td>0</td>\n",
       "      <td>0</td>\n",
       "      <td>0</td>\n",
       "      <td>0</td>\n",
       "      <td>0.0</td>\n",
       "      <td>0</td>\n",
       "    </tr>\n",
       "    <tr>\n",
       "      <th>4</th>\n",
       "      <td>max</td>\n",
       "      <td>1557593017</td>\n",
       "      <td>53080</td>\n",
       "      <td>12</td>\n",
       "      <td>70</td>\n",
       "      <td>21</td>\n",
       "      <td>20</td>\n",
       "      <td>139</td>\n",
       "      <td>0</td>\n",
       "      <td>5</td>\n",
       "      <td>127</td>\n",
       "      <td>4.02</td>\n",
       "      <td>1</td>\n",
       "    </tr>\n",
       "  </tbody>\n",
       "</table>\n",
       "</div>"
      ],
      "text/plain": [
       "  summary                    ts                PID                TRUN  \\\n",
       "0   count               1927968            1927968             1927968   \n",
       "1    mean  1.5563198311840394E9  5068.709770597852  0.0632287465352122   \n",
       "2  stddev     771350.0248109627  4987.784329320437   0.247825870904161   \n",
       "3     min            1554216855               1007                   0   \n",
       "4     max            1557593017              53080                  12   \n",
       "\n",
       "               TSLPI                  TSLPU               NICE  \\\n",
       "0            1927968                1927968            1927968   \n",
       "1  3.508334163222626  3.6100184235422994E-4  4.634469555511295   \n",
       "2  6.988459728531793    0.04421874419214597   8.40318986475207   \n",
       "3                  0                      0                  0   \n",
       "4                 70                     21                 20   \n",
       "\n",
       "                  PRI     RTPR               CPUNR                   EXC  \\\n",
       "0             1927968  1927968             1927968               1927968   \n",
       "1  111.26826741937626      0.0  1.9210142491991569  0.030275398761805176   \n",
       "2  22.624445062102893      0.0  1.5274047225903056    1.4619498567691878   \n",
       "3                   0        0                   0                     0   \n",
       "4                 139        0                   5                   127   \n",
       "\n",
       "                   CPU               attack  \n",
       "0              1927968              1927968  \n",
       "1  0.02238527299209388   0.1511249149363475  \n",
       "2  0.13628943687184275  0.35817068774739264  \n",
       "3                  0.0                    0  \n",
       "4                 4.02                    1  "
      ]
     },
     "execution_count": 20,
     "metadata": {},
     "output_type": "execute_result"
    }
   ],
   "source": [
    "df_process.select(numericalColProc).describe().toPandas()"
   ]
  },
  {
   "cell_type": "code",
   "execution_count": 21,
   "metadata": {
    "scrolled": true
   },
   "outputs": [
    {
     "data": {
      "text/html": [
       "<div>\n",
       "<style scoped>\n",
       "    .dataframe tbody tr th:only-of-type {\n",
       "        vertical-align: middle;\n",
       "    }\n",
       "\n",
       "    .dataframe tbody tr th {\n",
       "        vertical-align: top;\n",
       "    }\n",
       "\n",
       "    .dataframe thead th {\n",
       "        text-align: right;\n",
       "    }\n",
       "</style>\n",
       "<table border=\"1\" class=\"dataframe\">\n",
       "  <thead>\n",
       "    <tr style=\"text-align: right;\">\n",
       "      <th></th>\n",
       "      <th>summary</th>\n",
       "      <th>ts</th>\n",
       "      <th>PID</th>\n",
       "      <th>MINFLT</th>\n",
       "      <th>MAJFLT</th>\n",
       "      <th>VSTEXT</th>\n",
       "      <th>VSIZE</th>\n",
       "      <th>RSIZE</th>\n",
       "      <th>VGROW</th>\n",
       "      <th>RGROW</th>\n",
       "      <th>MEM</th>\n",
       "      <th>attack</th>\n",
       "    </tr>\n",
       "  </thead>\n",
       "  <tbody>\n",
       "    <tr>\n",
       "      <th>0</th>\n",
       "      <td>count</td>\n",
       "      <td>2000000</td>\n",
       "      <td>2000000</td>\n",
       "      <td>2000000</td>\n",
       "      <td>2000000</td>\n",
       "      <td>2000000</td>\n",
       "      <td>2000000</td>\n",
       "      <td>2000000</td>\n",
       "      <td>2000000</td>\n",
       "      <td>2000000</td>\n",
       "      <td>2000000</td>\n",
       "      <td>2000000</td>\n",
       "    </tr>\n",
       "    <tr>\n",
       "      <th>1</th>\n",
       "      <td>mean</td>\n",
       "      <td>1.55624581707609E9</td>\n",
       "      <td>4999.360446</td>\n",
       "      <td>983.344344</td>\n",
       "      <td>987846.5873270865</td>\n",
       "      <td>46453.27415208986</td>\n",
       "      <td>4496.419966448755</td>\n",
       "      <td>23722.888664201997</td>\n",
       "      <td>984.4668735599995</td>\n",
       "      <td>483.17466254999994</td>\n",
       "      <td>0.003385165000001682</td>\n",
       "      <td>0.1028115</td>\n",
       "    </tr>\n",
       "    <tr>\n",
       "      <th>2</th>\n",
       "      <td>stddev</td>\n",
       "      <td>984463.3682899477</td>\n",
       "      <td>4887.313351921473</td>\n",
       "      <td>19229.610980642334</td>\n",
       "      <td>1.4842874238098994E7</td>\n",
       "      <td>658730.2051543018</td>\n",
       "      <td>9046.338093399043</td>\n",
       "      <td>1986383.1808735211</td>\n",
       "      <td>86174.82585202329</td>\n",
       "      <td>1491.4761059171788</td>\n",
       "      <td>0.010943425779985876</td>\n",
       "      <td>0.30371259701965325</td>\n",
       "    </tr>\n",
       "    <tr>\n",
       "      <th>3</th>\n",
       "      <td>min</td>\n",
       "      <td>1.554216855E9</td>\n",
       "      <td>1007.0</td>\n",
       "      <td>0.0</td>\n",
       "      <td>0.0</td>\n",
       "      <td>0.0</td>\n",
       "      <td>0.0</td>\n",
       "      <td>-9728.0</td>\n",
       "      <td>-9392000.0</td>\n",
       "      <td>0.0</td>\n",
       "      <td>0.0</td>\n",
       "      <td>0.0</td>\n",
       "    </tr>\n",
       "    <tr>\n",
       "      <th>4</th>\n",
       "      <td>max</td>\n",
       "      <td>1.558355716E9</td>\n",
       "      <td>53096.0</td>\n",
       "      <td>8050000.0</td>\n",
       "      <td>2.244E8</td>\n",
       "      <td>1.12E7</td>\n",
       "      <td>88040.0</td>\n",
       "      <td>2.244E8</td>\n",
       "      <td>1.116E7</td>\n",
       "      <td>98920.0</td>\n",
       "      <td>0.44</td>\n",
       "      <td>1.0</td>\n",
       "    </tr>\n",
       "  </tbody>\n",
       "</table>\n",
       "</div>"
      ],
      "text/plain": [
       "  summary                  ts                PID              MINFLT  \\\n",
       "0   count             2000000            2000000             2000000   \n",
       "1    mean  1.55624581707609E9        4999.360446          983.344344   \n",
       "2  stddev   984463.3682899477  4887.313351921473  19229.610980642334   \n",
       "3     min       1.554216855E9             1007.0                 0.0   \n",
       "4     max       1.558355716E9            53096.0           8050000.0   \n",
       "\n",
       "                 MAJFLT             VSTEXT              VSIZE  \\\n",
       "0               2000000            2000000            2000000   \n",
       "1     987846.5873270865  46453.27415208986  4496.419966448755   \n",
       "2  1.4842874238098994E7  658730.2051543018  9046.338093399043   \n",
       "3                   0.0                0.0                0.0   \n",
       "4               2.244E8             1.12E7            88040.0   \n",
       "\n",
       "                RSIZE              VGROW               RGROW  \\\n",
       "0             2000000            2000000             2000000   \n",
       "1  23722.888664201997  984.4668735599995  483.17466254999994   \n",
       "2  1986383.1808735211  86174.82585202329  1491.4761059171788   \n",
       "3             -9728.0         -9392000.0                 0.0   \n",
       "4             2.244E8            1.116E7             98920.0   \n",
       "\n",
       "                    MEM               attack  \n",
       "0               2000000              2000000  \n",
       "1  0.003385165000001682            0.1028115  \n",
       "2  0.010943425779985876  0.30371259701965325  \n",
       "3                   0.0                  0.0  \n",
       "4                  0.44                  1.0  "
      ]
     },
     "execution_count": 21,
     "metadata": {},
     "output_type": "execute_result"
    }
   ],
   "source": [
    "df_memory.select(numericalColMem).describe().toPandas()"
   ]
  },
  {
   "cell_type": "code",
   "execution_count": 22,
   "metadata": {
    "scrolled": true
   },
   "outputs": [
    {
     "name": "stdout",
     "output_type": "stream",
     "text": [
      "+----+-------+\n",
      "|POLI|  Count|\n",
      "+----+-------+\n",
      "|norm|1861558|\n",
      "|   0|  53216|\n",
      "|   -|  13194|\n",
      "+----+-------+\n",
      "\n",
      "+------+-------+\n",
      "|Status|  Count|\n",
      "+------+-------+\n",
      "|     -|1416322|\n",
      "|     0| 438984|\n",
      "|    NE|  48602|\n",
      "|     N|  23313|\n",
      "|    NS|    743|\n",
      "|     C|      3|\n",
      "|    NC|      1|\n",
      "+------+-------+\n",
      "\n",
      "+-----+-------+\n",
      "|State|  Count|\n",
      "+-----+-------+\n",
      "|    S|1676350|\n",
      "|    I|  98986|\n",
      "|    R|  84753|\n",
      "|    E|  66410|\n",
      "|    Z|   1118|\n",
      "|    D|    344|\n",
      "|    T|      7|\n",
      "+-----+-------+\n",
      "\n",
      "+--------------+------+\n",
      "|           CMD| Count|\n",
      "+--------------+------+\n",
      "|          atop|441180|\n",
      "|       apache2|313143|\n",
      "|      vmtoolsd|112029|\n",
      "|          Xorg| 66813|\n",
      "|      nautilus| 63449|\n",
      "|gnome-terminal| 47628|\n",
      "|        compiz| 44386|\n",
      "|    irqbalance| 44324|\n",
      "|      ostinato| 42979|\n",
      "|         drone| 41390|\n",
      "+--------------+------+\n",
      "only showing top 10 rows\n",
      "\n",
      "+---------+-------+\n",
      "|     type|  Count|\n",
      "+---------+-------+\n",
      "|   normal|1636604|\n",
      "|     ddos|  71603|\n",
      "|      dos|  70721|\n",
      "| password|  51409|\n",
      "|injection|  41311|\n",
      "| scanning|  38449|\n",
      "|      xss|  17759|\n",
      "|     mitm|    112|\n",
      "+---------+-------+\n",
      "\n"
     ]
    }
   ],
   "source": [
    "#Categorical values for Process\n",
    "for col in [x for x in categoricalColProc if (x!='type')|(x!='attack')]:\n",
    "    df_process.groupBy(col).agg(F.count('type').alias('Count')).sort('Count',ascending=False).show(10)"
   ]
  },
  {
   "cell_type": "code",
   "execution_count": 23,
   "metadata": {},
   "outputs": [
    {
     "name": "stdout",
     "output_type": "stream",
     "text": [
      "+----------+------+\n",
      "|       CMD| Count|\n",
      "+----------+------+\n",
      "|      atop|325985|\n",
      "|   apache2| 89761|\n",
      "| jfsCommit| 81714|\n",
      "|  vmtoolsd| 77871|\n",
      "|      Xorg| 49981|\n",
      "|  nautilus| 48356|\n",
      "|irqbalance| 44387|\n",
      "|    compiz| 44356|\n",
      "|  ostinato| 43024|\n",
      "|     drone| 41392|\n",
      "+----------+------+\n",
      "only showing top 10 rows\n",
      "\n",
      "+---------+-------+\n",
      "|     type|  Count|\n",
      "+---------+-------+\n",
      "|   normal|1794377|\n",
      "|      dos|  75283|\n",
      "|injection|  58523|\n",
      "|     ddos|  45689|\n",
      "| password|  26016|\n",
      "|     mitm|    112|\n",
      "+---------+-------+\n",
      "\n"
     ]
    }
   ],
   "source": [
    "#Categorical values for Memory\n",
    "for col in [x for x in categoricalColMem if (x!='type')|(x!='attack')]:\n",
    "    df_memory.groupBy(col).agg(F.count('type').alias('Count')).sort('Count',ascending=False).show(10)"
   ]
  },
  {
   "cell_type": "markdown",
   "metadata": {},
   "source": [
    "### Task 1.3.3 Correlation matrix "
   ]
  },
  {
   "cell_type": "code",
   "execution_count": 24,
   "metadata": {},
   "outputs": [],
   "source": [
    "def correlation_matrix(df, corr_columns, method='pearson'):\n",
    "    vector_col = \"corr_features\"\n",
    "    assembler = VectorAssembler(inputCols=corr_columns, outputCol=vector_col)\n",
    "    df_vector = assembler.transform(df).select(vector_col)\n",
    "    matrix = Correlation.corr(df_vector, vector_col, method)\n",
    "    result = matrix.collect()[0][\"pearson({})\".format(vector_col)].values\n",
    "    return pd.DataFrame(result.reshape(-1, len(corr_columns)), columns=corr_columns, index=corr_columns)"
   ]
  },
  {
   "cell_type": "code",
   "execution_count": 25,
   "metadata": {},
   "outputs": [
    {
     "data": {
      "text/plain": [
       "Text(0.5, 1.0, 'Correlation Matrix for Process Activites')"
      ]
     },
     "execution_count": 25,
     "metadata": {},
     "output_type": "execute_result"
    },
    {
     "data": {
      "image/png": "[encoded data removed]",
      "text/plain": [
       "<Figure size 1368x1080 with 2 Axes>"
      ]
     },
     "metadata": {
      "needs_background": "light"
     },
     "output_type": "display_data"
    }
   ],
   "source": [
    "corr_matrix_proc = correlation_matrix(df_process.select([x for x in numericalColProc if x!='RTPR']),[x for x in numericalColProc if x!='RTPR'])\n",
    "f = plt.figure(figsize=(19, 15))\n",
    "plt.matshow(corr_matrix_proc.corr(), fignum=f.number)\n",
    "plt.xticks(range(corr_matrix_proc.shape[1]), corr_matrix_proc.columns, fontsize=14, rotation=45)\n",
    "plt.yticks(range(corr_matrix_proc.shape[1]), corr_matrix_proc.columns, fontsize=14)\n",
    "cb = plt.colorbar()\n",
    "cb.ax.tick_params(labelsize=14)\n",
    "plt.title('Correlation Matrix for Process Activites', fontsize=16)"
   ]
  },
  {
   "cell_type": "markdown",
   "metadata": {},
   "source": [
    "<p>\n",
    "We can see that ts and PID have very high correlation with each other and some critical variables. However since ts is nothing but timestamp of the activity and PID is a unique ID, they have an inflated correlation due to the uniqueness of each entry. \n",
    "    \n",
    "Asside from the above note following are some intresting correlation:\n",
    "\n",
    "* CPU and TRUN are highly positively correlated\n",
    "* NICE and TSLPI are highly negativly correlated\n",
    "* PRI and CPUNR are postivly correlated.\n",
    "</p>"
   ]
  },
  {
   "cell_type": "code",
   "execution_count": 26,
   "metadata": {},
   "outputs": [
    {
     "data": {
      "text/plain": [
       "Text(0.5, 1.0, 'Correlation Matrix for Memory Activities')"
      ]
     },
     "execution_count": 26,
     "metadata": {},
     "output_type": "execute_result"
    },
    {
     "data": {
      "image/png": "[encoded data removed]",
      "text/plain": [
       "<Figure size 1440x1080 with 2 Axes>"
      ]
     },
     "metadata": {
      "needs_background": "light"
     },
     "output_type": "display_data"
    }
   ],
   "source": [
    "corr_matrix_mem = correlation_matrix(df_memory.select(numericalColMem).fillna(0),numericalColMem)\n",
    "f = plt.figure(figsize=(20, 15))\n",
    "plt.matshow(corr_matrix_mem.corr(), fignum=f.number)\n",
    "plt.xticks(range(corr_matrix_mem.shape[1]), corr_matrix_mem.columns, fontsize=14, rotation=45)\n",
    "plt.yticks(range(corr_matrix_mem.shape[1]), corr_matrix_mem.columns, fontsize=14)\n",
    "cb = plt.colorbar()\n",
    "cb.ax.tick_params(labelsize=14)\n",
    "plt.title('Correlation Matrix for Memory Activities', fontsize=16)"
   ]
  },
  {
   "cell_type": "markdown",
   "metadata": {},
   "source": [
    "<p>\n",
    "We can see that ts and PID have very high correlation with each other and some critical variables. However since ts is nothing but timestamp of the activity and PID is a unique ID, they have an inflated correlation due to the uniqueness of each entry.\n",
    "\n",
    "We can see some intreseting correlations form the above memory correlation matrix. We can see that VSTEXT and MAJFLT have a highly positive correlation. The most positive correlated features to attack MINFLT, MAJFLT and VSTEXT. \n",
    "</p>"
   ]
  },
  {
   "cell_type": "markdown",
   "metadata": {},
   "source": [
    "### Task 1.3.3 Histogram"
   ]
  },
  {
   "cell_type": "code",
   "execution_count": 27,
   "metadata": {},
   "outputs": [],
   "source": [
    "undersampledProc = df_process.sample(False,0.2).toPandas()"
   ]
  },
  {
   "cell_type": "code",
   "execution_count": 28,
   "metadata": {},
   "outputs": [
    {
     "data": {
      "image/png": "[encoded data removed]",
      "text/plain": [
       "<Figure size 432x288 with 1 Axes>"
      ]
     },
     "metadata": {
      "needs_background": "light"
     },
     "output_type": "display_data"
    },
    {
     "data": {
      "image/png": "[encoded data removed]",
      "text/plain": [
       "<Figure size 432x288 with 1 Axes>"
      ]
     },
     "metadata": {
      "needs_background": "light"
     },
     "output_type": "display_data"
    },
    {
     "data": {
      "image/png": "[encoded data removed]",
      "text/plain": [
       "<Figure size 432x288 with 1 Axes>"
      ]
     },
     "metadata": {
      "needs_background": "light"
     },
     "output_type": "display_data"
    },
    {
     "data": {
      "image/png": "[encoded data removed]",
      "text/plain": [
       "<Figure size 432x288 with 1 Axes>"
      ]
     },
     "metadata": {
      "needs_background": "light"
     },
     "output_type": "display_data"
    },
    {
     "data": {
      "image/png": "[encoded data removed]",
      "text/plain": [
       "<Figure size 432x288 with 1 Axes>"
      ]
     },
     "metadata": {
      "needs_background": "light"
     },
     "output_type": "display_data"
    },
    {
     "data": {
      "image/png": "[encoded data removed]",
      "text/plain": [
       "<Figure size 432x288 with 1 Axes>"
      ]
     },
     "metadata": {
      "needs_background": "light"
     },
     "output_type": "display_data"
    },
    {
     "data": {
      "image/png": "[encoded data removed]",
      "text/plain": [
       "<Figure size 432x288 with 1 Axes>"
      ]
     },
     "metadata": {
      "needs_background": "light"
     },
     "output_type": "display_data"
    },
    {
     "data": {
      "image/png": "[encoded data removed]",
      "text/plain": [
       "<Figure size 432x288 with 1 Axes>"
      ]
     },
     "metadata": {
      "needs_background": "light"
     },
     "output_type": "display_data"
    },
    {
     "data": {
      "image/png": "[encoded data removed]",
      "text/plain": [
       "<Figure size 432x288 with 1 Axes>"
      ]
     },
     "metadata": {
      "needs_background": "light"
     },
     "output_type": "display_data"
    },
    {
     "data": {
      "image/png": "[encoded data removed]",
      "text/plain": [
       "<Figure size 432x288 with 1 Axes>"
      ]
     },
     "metadata": {
      "needs_background": "light"
     },
     "output_type": "display_data"
    },
    {
     "data": {
      "image/png": "[encoded data removed]",
      "text/plain": [
       "<Figure size 432x288 with 1 Axes>"
      ]
     },
     "metadata": {
      "needs_background": "light"
     },
     "output_type": "display_data"
    },
    {
     "data": {
      "image/png": "[encoded data removed]",
      "text/plain": [
       "<Figure size 432x288 with 1 Axes>"
      ]
     },
     "metadata": {
      "needs_background": "light"
     },
     "output_type": "display_data"
    }
   ],
   "source": [
    "for x in numericalColProc:\n",
    "    undersampledProc.hist(x)"
   ]
  },
  {
   "cell_type": "code",
   "execution_count": 29,
   "metadata": {},
   "outputs": [],
   "source": [
    "undersampledMem = df_memory.sample(False,0.2).toPandas()"
   ]
  },
  {
   "cell_type": "code",
   "execution_count": 62,
   "metadata": {},
   "outputs": [
    {
     "data": {
      "image/png": "[encoded data removed]",
      "text/plain": [
       "<Figure size 432x288 with 1 Axes>"
      ]
     },
     "metadata": {
      "needs_background": "light"
     },
     "output_type": "display_data"
    },
    {
     "data": {
      "image/png": "[encoded data removed]",
      "text/plain": [
       "<Figure size 432x288 with 1 Axes>"
      ]
     },
     "metadata": {
      "needs_background": "light"
     },
     "output_type": "display_data"
    },
    {
     "data": {
      "image/png": "[encoded data removed]",
      "text/plain": [
       "<Figure size 432x288 with 1 Axes>"
      ]
     },
     "metadata": {
      "needs_background": "light"
     },
     "output_type": "display_data"
    },
    {
     "data": {
      "image/png": "[encoded data removed]",
      "text/plain": [
       "<Figure size 432x288 with 1 Axes>"
      ]
     },
     "metadata": {
      "needs_background": "light"
     },
     "output_type": "display_data"
    },
    {
     "data": {
      "image/png": "[encoded data removed]",
      "text/plain": [
       "<Figure size 432x288 with 1 Axes>"
      ]
     },
     "metadata": {
      "needs_background": "light"
     },
     "output_type": "display_data"
    },
    {
     "data": {
      "image/png": "[encoded data removed]",
      "text/plain": [
       "<Figure size 432x288 with 1 Axes>"
      ]
     },
     "metadata": {
      "needs_background": "light"
     },
     "output_type": "display_data"
    },
    {
     "data": {
      "image/png": "[encoded data removed]",
      "text/plain": [
       "<Figure size 432x288 with 1 Axes>"
      ]
     },
     "metadata": {
      "needs_background": "light"
     },
     "output_type": "display_data"
    },
    {
     "data": {
      "image/png": "[encoded data removed]",
      "text/plain": [
       "<Figure size 432x288 with 1 Axes>"
      ]
     },
     "metadata": {
      "needs_background": "light"
     },
     "output_type": "display_data"
    },
    {
     "data": {
      "image/png": "[encoded data removed]",
      "text/plain": [
       "<Figure size 432x288 with 1 Axes>"
      ]
     },
     "metadata": {
      "needs_background": "light"
     },
     "output_type": "display_data"
    }
   ],
   "source": [
    "for x in [\"MINFLT\",\"MAJFLT\",\"VSTEXT\",\"VSIZE\",\"RSIZE\",\"VGROW\",\"RGROW\",\"MEM\",\"attack\"]:\n",
    "    undersampledMem.hist(x)"
   ]
  },
  {
   "cell_type": "markdown",
   "metadata": {},
   "source": [
    "# Task 2: Feature extraction and ML training"
   ]
  },
  {
   "cell_type": "markdown",
   "metadata": {},
   "source": [
    "## Task 2.1 Preparing the train and test data."
   ]
  },
  {
   "cell_type": "code",
   "execution_count": 31,
   "metadata": {},
   "outputs": [],
   "source": [
    "#80-20 Rnadom Split\n",
    "trainMem, testMem = df_memory.randomSplit([0.8,0.2], seed=1234500)\n",
    "trainProc, testProc = df_process.randomSplit([0.8,0.2], seed=1234500)"
   ]
  },
  {
   "cell_type": "markdown",
   "metadata": {},
   "source": [
    "### Task 2.1.2 Rebalancing"
   ]
  },
  {
   "cell_type": "code",
   "execution_count": 32,
   "metadata": {},
   "outputs": [],
   "source": [
    "#filter out attack subset.\n",
    "memAttack = trainMem.filter(trainMem.attack == 1)\n",
    "#80-20 random split of onyl attack subset\n",
    "memAttack80, memAttack20 = memAttack.randomSplit([0.8,0.2], seed=42)\n",
    "#filter out non attack subset.\n",
    "memNonAttack = trainMem.filter(trainMem.attack == 0)\n",
    "#sample from non attack subset\n",
    "memNonAttackSampled  = memNonAttack.sample(True, 0.045)\n",
    "#combine our sampled non attack subset with our 20% split attack subset\n",
    "rebalancedMem = memNonAttackSampled.unionAll(memAttack20)"
   ]
  },
  {
   "cell_type": "code",
   "execution_count": 33,
   "metadata": {},
   "outputs": [],
   "source": [
    "#filter out attack subset.\n",
    "procAttack = trainProc.filter(trainProc.attack == 1)\n",
    "#80-20 random split of onyl attack subset\n",
    "procAttack80, procAttack20 = procAttack.randomSplit([0.8,0.2], seed=42)\n",
    "#filter out non attack subset.\n",
    "procNonAttack = trainProc.filter(trainProc.attack == 0)\n",
    "#sample from non attack subset\n",
    "procNonAttackedSampled  = procNonAttack.sample(True, 0.071)\n",
    "#combine our sampled non attack subset with our 20% split attack subset\n",
    "rebalancedProc = procNonAttackedSampled.unionAll(procAttack20)"
   ]
  },
  {
   "cell_type": "code",
   "execution_count": 34,
   "metadata": {},
   "outputs": [
    {
     "data": {
      "text/plain": [
       "DataFrame[ts: int, PID: int, TRUN: int, TSLPI: int, TSLPU: int, POLI: string, NICE: int, PRI: int, RTPR: int, CPUNR: int, Status: string, EXC: int, State: string, CPU: double, CMD: string, attack: int, type: string]"
      ]
     },
     "execution_count": 34,
     "metadata": {},
     "output_type": "execute_result"
    }
   ],
   "source": [
    "rebalancedMem.cache()\n",
    "rebalancedProc.cache()"
   ]
  },
  {
   "cell_type": "markdown",
   "metadata": {},
   "source": [
    "## Task 2.2 "
   ]
  },
  {
   "cell_type": "markdown",
   "metadata": {},
   "source": [
    "### Task 2.2.1"
   ]
  },
  {
   "cell_type": "markdown",
   "metadata": {},
   "source": [
    "<p>\n",
    "Based on the above exploration for memory activity we can select the following features:\n",
    "    \n",
    "    * CMD\n",
    "    * MINFLT\n",
    "    * MAJFLT\n",
    "    * VSTEXT\n",
    "    * RSIZE\n",
    "    * RGROW\n",
    "\n",
    "</p>"
   ]
  },
  {
   "cell_type": "markdown",
   "metadata": {},
   "source": [
    "<p>\n",
    "Based on the above exploration for memory activity we can select the following features:\n",
    "    \n",
    "    * POLI\n",
    "    * Status\n",
    "    * State\n",
    "    * CMD\n",
    "    * MINFLT\n",
    "    * MAJFLT\n",
    "    * VSTEXT\n",
    "    * RSIZE\n",
    "    * RGROW\n",
    "To transform these features we will be sending them through the StringIndexer and Encoder, we will then use our vector assembler to combine them into the final feature column.  \n",
    "\n",
    "</p>"
   ]
  },
  {
   "cell_type": "markdown",
   "metadata": {},
   "source": [
    "<p>\n",
    "For both the activity we will be following through the same steps to tranform our features. They are\n",
    "    \n",
    "* StringIndexer - encodes a string column of labels to a column of label indices.If the input column is numeric, we cast it to string and index the string values.\n",
    "    \n",
    "* OneHotEncoder -  maps a categorical feature, represented as a label index, to a binary vector with at most a single one-value indicating the presence of a specific feature value from among the set of all feature values. This encoding allows algorithms which expect continuous features, such as Logistic Regression, to use categorical features. For string type input data, it is common to encode categorical features using StringIndexer first.\n",
    "    \n",
    "* Vector Assembler - is a transformer that combines a given list of columns into a single vector column. It is useful for combining raw features and features generated by different feature transformers into a single feature vector\n",
    "\n",
    "</p>"
   ]
  },
  {
   "cell_type": "markdown",
   "metadata": {},
   "source": [
    "### Task 2.2.2"
   ]
  },
  {
   "cell_type": "markdown",
   "metadata": {},
   "source": [
    "Transformers Estimators for Memory"
   ]
  },
  {
   "cell_type": "code",
   "execution_count": 35,
   "metadata": {},
   "outputs": [],
   "source": [
    "selectedCatColMem = [\"CMD\"]\n",
    "selectedNumColMem = [\"MINFLT\",\"MAJFLT\",\"VSTEXT\",\"RSIZE\",\"RGROW\"]\n",
    "\n",
    "#String indexer\n",
    "inputCols = selectedCatColMem + selectedNumColMem\n",
    "indexerMem = StringIndexer(inputCols=inputCols, outputCols=[x+\"_index\" for x in inputCols]).setHandleInvalid(\"keep\")\n",
    "\n",
    "#OHE encoder\n",
    "inputCols_OHE = indexerMem.getOutputCols()\n",
    "encoderMem = OneHotEncoder(inputCols = inputCols_OHE, outputCols = [x+\"_vec\" for x in inputCols_OHE])\n",
    "\n",
    "#Assembler\n",
    "inputCols_Ass = encoderMem.getOutputCols()\n",
    "assemblerMem = VectorAssembler(inputCols = inputCols_Ass,outputCol='features')"
   ]
  },
  {
   "cell_type": "markdown",
   "metadata": {},
   "source": [
    "Transformers Estimators for process"
   ]
  },
  {
   "cell_type": "code",
   "execution_count": 36,
   "metadata": {},
   "outputs": [],
   "source": [
    "selectedCatColProc = ['POLI', 'Status', 'State', 'CMD']\n",
    "selectedNumColProc = ['TRUN', 'TSLPI', 'TSLPU', 'NICE', 'PRI', 'CPUNR', 'EXC', 'CPU']\n",
    "\n",
    "#String indexer\n",
    "inputCols = selectedCatColProc+selectedNumColProc\n",
    "indexerProc = StringIndexer(inputCols=inputCols, outputCols=[x+\"_index\" for x in inputCols]).setHandleInvalid(\"keep\")\n",
    "\n",
    "#OHE encoder\n",
    "inputCols_OHE = indexerProc.getOutputCols()\n",
    "encoderProc = OneHotEncoder(inputCols = inputCols_OHE, outputCols = [x+\"_vec\" for x in inputCols_OHE])\n",
    "\n",
    "#Assembler\n",
    "inputCols_Ass = encoderProc.getOutputCols() + selectedNumColProc\n",
    "assemblerProc = VectorAssembler(inputCols = inputCols_Ass,outputCol='features')"
   ]
  },
  {
   "cell_type": "markdown",
   "metadata": {},
   "source": [
    "## Task 2.2.3"
   ]
  },
  {
   "cell_type": "markdown",
   "metadata": {},
   "source": [
    "### Memory Pipelie"
   ]
  },
  {
   "cell_type": "markdown",
   "metadata": {},
   "source": [
    "### Decision Tree"
   ]
  },
  {
   "cell_type": "code",
   "execution_count": 37,
   "metadata": {},
   "outputs": [],
   "source": [
    "dtMem = DecisionTreeClassifier(featuresCol= 'features', labelCol = 'attack', maxDepth = 3)\n",
    "\n",
    "stages=[indexerMem,encoderMem,assemblerMem,dtMem]\n",
    "\n",
    "pipelineMemDT = Pipeline(stages = stages)"
   ]
  },
  {
   "cell_type": "markdown",
   "metadata": {},
   "source": [
    "### Gradient Decision Tree"
   ]
  },
  {
   "cell_type": "code",
   "execution_count": 38,
   "metadata": {},
   "outputs": [],
   "source": [
    "gbtMem = GBTClassifier(labelCol=\"attack\", featuresCol=\"features\",maxIter=10)\n",
    "\n",
    "stages=[indexerMem,encoderMem,assemblerMem,gbtMem]\n",
    "\n",
    "pipelineMemGBT = Pipeline(stages = stages)"
   ]
  },
  {
   "cell_type": "markdown",
   "metadata": {},
   "source": [
    "### Process Pipeline"
   ]
  },
  {
   "cell_type": "markdown",
   "metadata": {},
   "source": [
    "### Decision Tree"
   ]
  },
  {
   "cell_type": "code",
   "execution_count": 39,
   "metadata": {},
   "outputs": [],
   "source": [
    "dtProc = DecisionTreeClassifier(featuresCol= 'features', labelCol = 'attack', maxDepth = 3)\n",
    "\n",
    "stagesProc=[indexerProc,encoderProc,assemblerProc,dtProc]\n",
    "\n",
    "pipelineProcDT = Pipeline(stages = stagesProc)"
   ]
  },
  {
   "cell_type": "markdown",
   "metadata": {},
   "source": [
    "### Gradient Decision Tree"
   ]
  },
  {
   "cell_type": "code",
   "execution_count": 40,
   "metadata": {},
   "outputs": [],
   "source": [
    "gbtProc = GBTClassifier(labelCol=\"attack\", featuresCol=\"features\",maxIter=10)\n",
    "\n",
    "stages=[indexerProc,encoderProc,assemblerProc,gbtProc]\n",
    "\n",
    "pipelineProcGBT = Pipeline(stages = stages)"
   ]
  },
  {
   "cell_type": "markdown",
   "metadata": {},
   "source": [
    "## Task 2.3"
   ]
  },
  {
   "cell_type": "markdown",
   "metadata": {},
   "source": [
    "### Task 2.3.1"
   ]
  },
  {
   "cell_type": "markdown",
   "metadata": {},
   "source": [
    "DT"
   ]
  },
  {
   "cell_type": "code",
   "execution_count": 41,
   "metadata": {},
   "outputs": [],
   "source": [
    "rebalancedProcDTModel = pipelineProcDT.fit(rebalancedProc)"
   ]
  },
  {
   "cell_type": "code",
   "execution_count": 42,
   "metadata": {
    "scrolled": true
   },
   "outputs": [],
   "source": [
    "rebalancedMemDTModel = pipelineMemDT.fit(rebalancedMem)"
   ]
  },
  {
   "cell_type": "markdown",
   "metadata": {},
   "source": [
    "GBT"
   ]
  },
  {
   "cell_type": "code",
   "execution_count": 43,
   "metadata": {},
   "outputs": [],
   "source": [
    "rebalancedMemGBTModel = pipelineMemGBT.fit(rebalancedMem)"
   ]
  },
  {
   "cell_type": "code",
   "execution_count": 44,
   "metadata": {},
   "outputs": [],
   "source": [
    "rebalancedProcGBTModel = pipelineProcGBT.fit(rebalancedProc)"
   ]
  },
  {
   "cell_type": "markdown",
   "metadata": {},
   "source": [
    "### Task 2.3.2"
   ]
  },
  {
   "cell_type": "markdown",
   "metadata": {},
   "source": [
    "DT"
   ]
  },
  {
   "cell_type": "code",
   "execution_count": 45,
   "metadata": {},
   "outputs": [
    {
     "name": "stdout",
     "output_type": "stream",
     "text": [
      "+------+----------+------+\n",
      "|attack|prediction| count|\n",
      "+------+----------+------+\n",
      "|     1|       0.0| 38612|\n",
      "|     0|       0.0|291327|\n",
      "|     1|       1.0| 19718|\n",
      "|     0|       1.0| 35906|\n",
      "+------+----------+------+\n",
      "\n"
     ]
    }
   ],
   "source": [
    "#Process\n",
    "rebalancedProcDTTransform = rebalancedProcDTModel.transform(testProc)\n",
    "rebalancedProcDTTransform.groupBy(\"attack\",\"prediction\").count().show()"
   ]
  },
  {
   "cell_type": "code",
   "execution_count": 46,
   "metadata": {},
   "outputs": [
    {
     "name": "stdout",
     "output_type": "stream",
     "text": [
      "+------+----------+------+\n",
      "|attack|prediction| count|\n",
      "+------+----------+------+\n",
      "|   1.0|       1.0|  2339|\n",
      "|   0.0|       1.0|  2625|\n",
      "|   1.0|       0.0| 38728|\n",
      "|   0.0|       0.0|356399|\n",
      "+------+----------+------+\n",
      "\n"
     ]
    }
   ],
   "source": [
    "#Memory\n",
    "rebalancedMemDTTransform = rebalancedMemDTModel.transform(testMem)\n",
    "rebalancedMemDTTransform.groupBy(\"attack\",\"prediction\").count().show()"
   ]
  },
  {
   "cell_type": "markdown",
   "metadata": {},
   "source": [
    "GBT"
   ]
  },
  {
   "cell_type": "code",
   "execution_count": 47,
   "metadata": {},
   "outputs": [
    {
     "name": "stdout",
     "output_type": "stream",
     "text": [
      "+------+----------+------+\n",
      "|attack|prediction| count|\n",
      "+------+----------+------+\n",
      "|   1.0|       1.0|  5770|\n",
      "|   0.0|       1.0|  7073|\n",
      "|   1.0|       0.0| 35297|\n",
      "|   0.0|       0.0|351951|\n",
      "+------+----------+------+\n",
      "\n"
     ]
    }
   ],
   "source": [
    "#Process\n",
    "rebalancedMemGBTTransform = rebalancedMemGBTModel.transform(testMem)\n",
    "rebalancedMemGBTTransform.groupBy(\"attack\",\"prediction\").count().show()"
   ]
  },
  {
   "cell_type": "code",
   "execution_count": 48,
   "metadata": {},
   "outputs": [
    {
     "name": "stdout",
     "output_type": "stream",
     "text": [
      "+------+----------+------+\n",
      "|attack|prediction| count|\n",
      "+------+----------+------+\n",
      "|     1|       0.0| 35859|\n",
      "|     0|       0.0|290417|\n",
      "|     1|       1.0| 22471|\n",
      "|     0|       1.0| 36816|\n",
      "+------+----------+------+\n",
      "\n"
     ]
    }
   ],
   "source": [
    "#Memory\n",
    "rebalancedProcGBTTransform = rebalancedProcGBTModel.transform(testProc)\n",
    "rebalancedProcGBTTransform.groupBy(\"attack\",\"prediction\").count().show()"
   ]
  },
  {
   "cell_type": "markdown",
   "metadata": {},
   "source": [
    "### Task 2.3.3"
   ]
  },
  {
   "cell_type": "code",
   "execution_count": 49,
   "metadata": {},
   "outputs": [
    {
     "name": "stdout",
     "output_type": "stream",
     "text": [
      "===Metrics for Rebalanced Process DT Model===\n",
      "Area under the curve value is 0.3933182323482265\n",
      "Accuracy value is 0.8067293801531786\n",
      "Precision value is 0.33804217383850504\n",
      "Recal value is 0.35448727168128863\n",
      "F1 Score is 0.3460694666268845\n"
     ]
    }
   ],
   "source": [
    "# Calculate the elements of the confusion matrix\n",
    "TN = rebalancedProcDTTransform.filter('prediction = 0 AND attack = 0').count()\n",
    "TP = rebalancedProcDTTransform.filter('prediction = 1 AND attack = 1').count()\n",
    "FN = rebalancedProcDTTransform.filter('prediction = 1 AND attack = 0').count()\n",
    "FP = rebalancedProcDTTransform.filter('prediction = 0 AND attack = 1').count()\n",
    "\n",
    "\n",
    "# calculate metrics by the confusion matrix\n",
    "accuracy = (TN+TP)/(TN+TP+FN+FP)#WRITE CODE : formula to find accuracy\n",
    "precision = TP/(TP+FP)#WRITE CODE : formula to find precision\n",
    "recall = TP/(TP+FN)#WRITE CODE : formula to find recall\n",
    "f1 = 2*((precision*recall)/(precision+recall))\n",
    "\n",
    "evaluator = BinaryClassificationEvaluator(rawPredictionCol=\"rawPrediction\", labelCol = 'attack')\n",
    "auc_dt = evaluator.evaluate(rebalancedProcDTTransform)\n",
    "print(\"===Metrics for Rebalanced Process DT Model===\")\n",
    "print(\"Area under the curve value is %s\" % (auc_dt))\n",
    "print(\"Accuracy value is %s\" % (accuracy))\n",
    "print(\"Precision value is %s\" % (precision))\n",
    "print(\"Recal value is %s\" % (recall))\n",
    "print(\"F1 Score is %s\" % (f1))"
   ]
  },
  {
   "cell_type": "code",
   "execution_count": 50,
   "metadata": {},
   "outputs": [
    {
     "name": "stdout",
     "output_type": "stream",
     "text": [
      "===Metrics for Rebalanced Memory DT Model===\n",
      "Area under the curve value is 0.538589119889532\n",
      "Accuracy value is 0.8966410141692764\n",
      "Precision value is 0.056955706528356104\n",
      "Recal value is 0.47119258662369057\n",
      "F1 Score is 0.10162716430231801\n"
     ]
    }
   ],
   "source": [
    "# Calculate the elements of the confusion matrix\n",
    "TN = rebalancedMemDTTransform.filter('prediction = 0 AND attack = 0').count()\n",
    "TP = rebalancedMemDTTransform.filter('prediction = 1 AND attack = 1').count()\n",
    "FN = rebalancedMemDTTransform.filter('prediction = 1 AND attack = 0').count()\n",
    "FP = rebalancedMemDTTransform.filter('prediction = 0 AND attack = 1').count()\n",
    "\n",
    "# calculate metrics by the confusion matrix\n",
    "accuracy = (TN+TP)/(TN+TP+FN+FP)#WRITE CODE : formula to find accuracy\n",
    "precision = TP/(TP+FP)#WRITE CODE : formula to find precision\n",
    "recall = TP/(TP+FN)#WRITE CODE : formula to find recall\n",
    "f1 = 2*((precision*recall)/(precision+recall))\n",
    "\n",
    "evaluator = BinaryClassificationEvaluator(rawPredictionCol=\"rawPrediction\", labelCol = 'attack')\n",
    "auc_dt = evaluator.evaluate(rebalancedMemDTTransform)\n",
    "print(\"===Metrics for Rebalanced Memory DT Model===\")\n",
    "print(\"Area under the curve value is %s\" % (auc_dt))\n",
    "print(\"Accuracy value is %s\" % (accuracy))\n",
    "print(\"Precision value is %s\" % (precision))\n",
    "print(\"Recal value is %s\" % (recall))\n",
    "print(\"F1 Score is %s\" % (f1))"
   ]
  },
  {
   "cell_type": "code",
   "execution_count": 51,
   "metadata": {},
   "outputs": [
    {
     "name": "stdout",
     "output_type": "stream",
     "text": [
      "===Metrics for Rebalanced Memory GBT Model===\n",
      "Area under the curve value is 0.7450339605418375\n",
      "Accuracy value is 0.8940990924564661\n",
      "Precision value is 0.14050210631407212\n",
      "Recal value is 0.44927197695242543\n",
      "F1 Score is 0.21406047115562976\n"
     ]
    }
   ],
   "source": [
    "# Calculate the elements of the confusion matrix\n",
    "TN = rebalancedMemGBTTransform.filter('prediction = 0 AND attack = 0').count()\n",
    "TP = rebalancedMemGBTTransform.filter('prediction = 1 AND attack = 1').count()\n",
    "FN = rebalancedMemGBTTransform.filter('prediction = 1 AND attack = 0').count()\n",
    "FP = rebalancedMemGBTTransform.filter('prediction = 0 AND attack = 1').count()\n",
    "\n",
    "# calculate metrics by the confusion matrix\n",
    "accuracy = (TN+TP)/(TN+TP+FN+FP)#WRITE CODE : formula to find accuracy\n",
    "precision = TP/(TP+FP)#WRITE CODE : formula to find precision\n",
    "recall = TP/(TP+FN)#WRITE CODE : formula to find recall\n",
    "f1 = 2*((precision*recall)/(precision+recall))\n",
    "\n",
    "evaluator = BinaryClassificationEvaluator(rawPredictionCol=\"rawPrediction\", labelCol = 'attack')\n",
    "auc_dt = evaluator.evaluate(rebalancedMemGBTTransform)\n",
    "print(\"===Metrics for Rebalanced Memory GBT Model===\")\n",
    "print(\"Area under the curve value is %s\" % (auc_dt))\n",
    "print(\"Accuracy value is %s\" % (accuracy))\n",
    "print(\"Precision value is %s\" % (precision))\n",
    "print(\"Recal value is %s\" % (recall))\n",
    "print(\"F1 Score is %s\" % (f1))"
   ]
  },
  {
   "cell_type": "code",
   "execution_count": 52,
   "metadata": {},
   "outputs": [
    {
     "name": "stdout",
     "output_type": "stream",
     "text": [
      "===Metrics for Rebalanced Process GBT Model===\n",
      "Area under the curve value is 0.7441320892323479\n",
      "Accuracy value is 0.811509403132562\n",
      "Precision value is 0.3852391565232299\n",
      "Recal value is 0.3790206959367146\n",
      "F1 Score is 0.3821046277323856\n"
     ]
    }
   ],
   "source": [
    "# Calculate the elements of the confusion matrix\n",
    "TN = rebalancedProcGBTTransform.filter('prediction = 0 AND attack = 0').count()\n",
    "TP = rebalancedProcGBTTransform.filter('prediction = 1 AND attack = 1').count()\n",
    "FN = rebalancedProcGBTTransform.filter('prediction = 1 AND attack = 0').count()\n",
    "FP = rebalancedProcGBTTransform.filter('prediction = 0 AND attack = 1').count()\n",
    "\n",
    "# calculate metrics by the confusion matrix\n",
    "accuracy = (TN+TP)/(TN+TP+FN+FP)#WRITE CODE : formula to find accuracy\n",
    "precision = TP/(TP+FP)#WRITE CODE : formula to find precision\n",
    "recall = TP/(TP+FN)#WRITE CODE : formula to find recall\n",
    "f1 = 2*((precision*recall)/(precision+recall))\n",
    "\n",
    "evaluator = BinaryClassificationEvaluator(rawPredictionCol=\"rawPrediction\", labelCol = 'attack')\n",
    "auc_dt = evaluator.evaluate(rebalancedProcGBTTransform)\n",
    "print(\"===Metrics for Rebalanced Process GBT Model===\")\n",
    "print(\"Area under the curve value is %s\" % (auc_dt))\n",
    "print(\"Accuracy value is %s\" % (accuracy))\n",
    "print(\"Precision value is %s\" % (precision))\n",
    "print(\"Recal value is %s\" % (recall))\n",
    "print(\"F1 Score is %s\" % (f1))"
   ]
  },
  {
   "cell_type": "markdown",
   "metadata": {},
   "source": [
    "<p>\n",
    "Our best metric to judge the validity of our model should be the AUC-ROC value.\n",
    "    \n",
    "AUC - ROC curve is a performance measurement for classification problem at various thresholds settings. ROC is a probability curve and AUC represents degree or measure of separability. It tells how much model is capable of distinguishing between classes. Higher the AUC, better the model is at predicting 0s as 0s and 1s as 1s.\n",
    "</p>"
   ]
  },
  {
   "cell_type": "markdown",
   "metadata": {},
   "source": [
    "### Task 2.3.4"
   ]
  },
  {
   "cell_type": "markdown",
   "metadata": {},
   "source": [
    "<p>\n",
    "Top 5 features for Mem Pipeline(DT & GBT) -\"MINFLT\",\"MAJFLT\",\"VSTEXT\",\"RSIZE\",\"CMD\"  \n",
    "    \n",
    "Top 5 features for Process Pipelines(DT & GBT) - \"NICE\" ,\"CPU\", \"TRUN\", \"CMD\", \"TSLPU\"\n",
    "     \n",
    "Our Gradient Boosted Tree pipeline model is better than our Decision Tree pipeline. While in DT one a single decision tree is trainined, in GBT multiple tree are trainined one by one and then from these decision trees, the best one is selected.   \n",
    "    \n",
    "The features 'ts' and 'PID' should not be selected as features for our models. If we see the meta data of our files, we see that ts is a timestamp and PID is a unique id for each process. If these features are included our models will overfit on these columns and we will get an artificially inflated accuracy. Which will fail on unseen data.</p>"
   ]
  },
  {
   "cell_type": "markdown",
   "metadata": {},
   "source": [
    "### Task 2.3.5"
   ]
  },
  {
   "cell_type": "code",
   "execution_count": 53,
   "metadata": {},
   "outputs": [
    {
     "name": "stdout",
     "output_type": "stream",
     "text": [
      "+------+------+\n",
      "|attack| count|\n",
      "+------+------+\n",
      "|   0.0|316167|\n",
      "|   1.0|164556|\n",
      "+------+------+\n",
      "\n"
     ]
    }
   ],
   "source": [
    "#Get dataset in 1:2 attacking:non-attacking \n",
    "TempMemNonAttackSampled  = memNonAttack.sample(True, 0.22)\n",
    "#union with dataframe which was filtered for only attack.\n",
    "upscaledMemNonAttack = TempMemNonAttackSampled.unionAll(memAttack)\n",
    "upscaledMemNonAttack.groupBy(\"attack\").count().show()"
   ]
  },
  {
   "cell_type": "code",
   "execution_count": 54,
   "metadata": {},
   "outputs": [
    {
     "name": "stdout",
     "output_type": "stream",
     "text": [
      "+------+------+\n",
      "|attack| count|\n",
      "+------+------+\n",
      "|     1|233034|\n",
      "|     0|457795|\n",
      "+------+------+\n",
      "\n"
     ]
    }
   ],
   "source": [
    "#Get dataset in 1:2 attacking:non-attacking \n",
    "tempProcNonAttack = procNonAttack.sample(True, 0.35)\n",
    "#union with dataframe which was filtered for only attack.\n",
    "upscaledProcNonAttack = tempProcNonAttack.unionAll(procAttack)\n",
    "upscaledProcNonAttack.groupBy(\"attack\").count().show()"
   ]
  },
  {
   "cell_type": "code",
   "execution_count": 55,
   "metadata": {},
   "outputs": [],
   "source": [
    "#Split 1:2 balanced dataset into test and train\n",
    "upscaledTrainMem, upscaledTestMem = upscaledMemNonAttack.randomSplit([0.8,0.2], seed=1234500) \n",
    "upscaledTrainProc, upscaledTestProc = upscaledProcNonAttack.randomSplit([0.8,0.2], seed=1234500) "
   ]
  },
  {
   "cell_type": "markdown",
   "metadata": {},
   "source": [
    "DT"
   ]
  },
  {
   "cell_type": "code",
   "execution_count": 56,
   "metadata": {
    "scrolled": true
   },
   "outputs": [
    {
     "name": "stdout",
     "output_type": "stream",
     "text": [
      "+------+----------+-----+\n",
      "|attack|prediction|count|\n",
      "+------+----------+-----+\n",
      "|   1.0|       1.0| 1835|\n",
      "|   0.0|       1.0|  455|\n",
      "|   1.0|       0.0|31046|\n",
      "|   0.0|       0.0|62839|\n",
      "+------+----------+-----+\n",
      "\n"
     ]
    }
   ],
   "source": [
    "#Upscaled Mem Model\n",
    "upscaledMemDTModel = pipelineMemDT.fit(upscaledTrainMem)\n",
    "upscaledMemDTTransform = upscaledMemDTModel.transform(upscaledTestMem)\n",
    "upscaledMemDTTransform.groupBy(\"attack\",\"prediction\").count().show()"
   ]
  },
  {
   "cell_type": "code",
   "execution_count": 57,
   "metadata": {},
   "outputs": [
    {
     "name": "stdout",
     "output_type": "stream",
     "text": [
      "+------+----------+-----+\n",
      "|attack|prediction|count|\n",
      "+------+----------+-----+\n",
      "|     1|       0.0|31015|\n",
      "|     0|       0.0|81785|\n",
      "|     1|       1.0|15615|\n",
      "|     0|       1.0| 9894|\n",
      "+------+----------+-----+\n",
      "\n"
     ]
    }
   ],
   "source": [
    "#Upscaled Proc Model\n",
    "upscaledProcDTModel = pipelineProcDT.fit(upscaledTrainProc)\n",
    "upscaledProcDTTransform = upscaledProcDTModel.transform(upscaledTestProc)\n",
    "upscaledProcDTTransform.groupBy(\"attack\",\"prediction\").count().show()"
   ]
  },
  {
   "cell_type": "markdown",
   "metadata": {},
   "source": [
    "GBT"
   ]
  },
  {
   "cell_type": "code",
   "execution_count": 58,
   "metadata": {},
   "outputs": [
    {
     "name": "stdout",
     "output_type": "stream",
     "text": [
      "+------+----------+-----+\n",
      "|attack|prediction|count|\n",
      "+------+----------+-----+\n",
      "|     1|       0.0|28322|\n",
      "|     0|       0.0|80832|\n",
      "|     1|       1.0|18308|\n",
      "|     0|       1.0|10847|\n",
      "+------+----------+-----+\n",
      "\n"
     ]
    }
   ],
   "source": [
    "#GBT Process upscaled\n",
    "upscaledProcGBTModel = pipelineProcGBT.fit(upscaledTrainProc)\n",
    "upscaledProcGBTTransformed = upscaledProcGBTModel.transform(upscaledTestProc)\n",
    "upscaledProcGBTTransformed.groupBy(\"attack\",\"prediction\").count().show()"
   ]
  },
  {
   "cell_type": "code",
   "execution_count": 59,
   "metadata": {},
   "outputs": [
    {
     "name": "stdout",
     "output_type": "stream",
     "text": [
      "+------+----------+-----+\n",
      "|attack|prediction|count|\n",
      "+------+----------+-----+\n",
      "|   1.0|       1.0| 4936|\n",
      "|   0.0|       1.0| 1028|\n",
      "|   1.0|       0.0|27945|\n",
      "|   0.0|       0.0|62266|\n",
      "+------+----------+-----+\n",
      "\n"
     ]
    }
   ],
   "source": [
    "#GBT Mem upsacled\n",
    "upscaledMemGBTModel = pipelineMemGBT.fit(upscaledTrainMem)\n",
    "upscaledGBTTransformed = upscaledMemGBTModel.transform(upscaledTestMem)\n",
    "upscaledGBTTransformed.groupBy(\"attack\",\"prediction\").count().show()"
   ]
  },
  {
   "cell_type": "code",
   "execution_count": 60,
   "metadata": {},
   "outputs": [
    {
     "data": {
      "text/plain": [
       "DataFrame[ts: int, PID: int, TRUN: int, TSLPI: int, TSLPU: int, POLI: string, NICE: int, PRI: int, RTPR: int, CPUNR: int, Status: string, EXC: int, State: string, CPU: double, CMD: string, attack: int, type: string, TSLPU_index: double, TSLPI_index: double, POLI_index: double, State_index: double, Status_index: double, CPU_index: double, CPUNR_index: double, EXC_index: double, CMD_index: double, TRUN_index: double, PRI_index: double, NICE_index: double, State_index_vec: vector, NICE_index_vec: vector, PRI_index_vec: vector, TSLPU_index_vec: vector, CPU_index_vec: vector, TSLPI_index_vec: vector, CPUNR_index_vec: vector, TRUN_index_vec: vector, POLI_index_vec: vector, EXC_index_vec: vector, CMD_index_vec: vector, Status_index_vec: vector, features: vector, rawPrediction: vector, probability: vector, prediction: double]"
      ]
     },
     "execution_count": 60,
     "metadata": {},
     "output_type": "execute_result"
    }
   ],
   "source": [
    "#Cache the new 1:2 balanced dataset\n",
    "upscaledGBTTransformed.cache()\n",
    "upscaledProcGBTTransformed.cache()"
   ]
  },
  {
   "cell_type": "markdown",
   "metadata": {},
   "source": [
    "# Task 3: Knowledge Sharing regarding KMeans Clustering"
   ]
  },
  {
   "cell_type": "code",
   "execution_count": 61,
   "metadata": {},
   "outputs": [],
   "source": [
    "iris_df = spark.createDataFrame([\n",
    "(4.7, 3.2, 1.3, 0.2),\n",
    "(4.9, 3.1, 1.5, 0.1),\n",
    "(5.4, 3.9, 1.3, 0.4),\n",
    "(5.0, 3.4, 1.6, 0.4),\n",
    "(5.1, 3.8, 1.6, 0.2),\n",
    "(4.9, 2.4, 3.3, 1.0),\n",
    "(6.6, 2.9, 4.6, 1.3),\n",
    "(5.6, 3.0, 4.5, 1.5),\n",
    "(5.7, 2.6, 3.5, 1.0),\n",
    "(5.8, 2.6, 4.0, 1.2),\n",
    "(5.8, 2.8, 5.1, 2.4),\n",
    "(6.2, 2.8, 4.8, 1.8),\n",
    "(6.0, 3.0, 4.8, 1.8),\n",
    "(6.7, 3.1, 5.6, 2.4),\n",
    "(6.7, 3.0, 5.2, 2.3),\n",
    "(6.2, 3.4, 5.4, 2.3)],\n",
    "['sepal_length', 'sepal_width', 'petal_length', 'petal_width'])\n",
    "assembler = VectorAssembler(\n",
    "inputCols=['sepal_length', 'sepal_width', 'petal_length', 'petal_width'],\n",
    "outputCol='features')\n",
    "kmeans = KMeans(k=3).fit(assembler.transform(iris_df))"
   ]
  },
  {
   "attachments": {
    "image.png": {
     "image/png": "[encoded data removed]"
    }
   },
   "cell_type": "markdown",
   "metadata": {},
   "source": [
    "![image.png](attachment:image.png)"
   ]
  },
  {
   "cell_type": "markdown",
   "metadata": {},
   "source": [
    "<p>\n",
    "From the above image we can see on running the code, 10 jobs are executed. The jobs are executed in the seq of id 495-504.\n",
    "\n",
    "Following are what each jobs is doing:\n",
    "    \n",
    "* <b>takeSample at Kmeans.scala:370</b> -  Initialize a set of cluster centers using the k-means. This jobs takes a smaller sample from the given dataset and parallizes it for working with pyspark.\n",
    "    \n",
    "* <b>sum at Kmeans.scala:390</b> -On each step, sample 2 * k points on average with probability proportional to their squared distance from the centers. Note that only distances between points and new centers are computed in each iteration.\n",
    "    \n",
    "* <b>collect at Kmeans.scala:395</b>  - Collected the data for futther transformation and calculation\n",
    "    \n",
    "* <b>countByValue at Kmeans.scala:418</b> - Finally, we might have a set of more than k distinct candidate centers; weight each candidate by the number of points in the dataset mapping to it and run a local k-means++ on the weighted centers to pick k of them.\n",
    "    \n",
    "* <b>collectAsMap at Kmeans.scala:300</b> - Calculates and tabulates the cluester weights, reduces by key and collectasMap.\n",
    "    \n",
    "* <b>collect at ClusteringSummary.scala:49</b> - we zip the data according to cost, then XORshift is randomly, after filtering out according to point cost we collect our result.\n",
    "    \n",
    "</p>"
   ]
  }
 ],
 "metadata": {
  "kernelspec": {
   "display_name": "Python 3",
   "language": "python",
   "name": "python3"
  },
  "language_info": {
   "codemirror_mode": {
    "name": "ipython",
    "version": 3
   },
   "file_extension": ".py",
   "mimetype": "text/x-python",
   "name": "python",
   "nbconvert_exporter": "python",
   "pygments_lexer": "ipython3",
   "version": "3.8.2"
  }
 },
 "nbformat": 4,
 "nbformat_minor": 4
}
